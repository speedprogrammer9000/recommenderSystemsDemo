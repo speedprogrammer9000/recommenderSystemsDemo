{
 "cells": [
  {
   "cell_type": "code",
   "execution_count": 2,
   "id": "0748c013-94f9-46a5-be0a-5515d81ad393",
   "metadata": {},
   "outputs": [],
   "source": [
    "import torch\n",
    "import csv\n",
    "import torch.nn as nn\n",
    "import torch.optim as optim\n",
    "from torch.utils.data import Dataset, DataLoader"
   ]
  },
  {
   "cell_type": "code",
   "execution_count": 3,
   "id": "4b7fb8fc-ffea-482f-8269-565e08df648d",
   "metadata": {},
   "outputs": [],
   "source": [
    "# Definiere ein einfaches Recommender-Modell\n",
    "class RecommenderModel(nn.Module):\n",
    "    def __init__(self, num_users, num_movies, embedding_size=10):\n",
    "        super(RecommenderModel, self).__init__()\n",
    "        self.user_embedding = nn.Embedding(num_users, embedding_size)\n",
    "        self.movie_embedding = nn.Embedding(num_movies, embedding_size)\n",
    "        self.fc = nn.Linear(embedding_size * 2, 1)\n",
    "\n",
    "    def forward(self, user, movie):\n",
    "        user_embed = self.user_embedding(user)\n",
    "        movie_embed = self.movie_embedding(movie)\n",
    "        x = torch.cat([user_embed, movie_embed], dim=1)\n",
    "        x = x.view(x.size(0), -1)  # Ändere die Form zu (Batch_Size, embedding_size * 2)\n",
    "        return self.fc(x)\n"
   ]
  },
  {
   "cell_type": "code",
   "execution_count": 4,
   "id": "8ea5443c-c691-4e02-8e51-3dad27219da2",
   "metadata": {},
   "outputs": [],
   "source": [
    "# Erstelle den Datensatz und den DataLoader\n",
    "class RatingDataset(Dataset):\n",
    "    def __init__(self, user_ratings):\n",
    "        self.user_ratings = user_ratings\n",
    "\n",
    "    def __len__(self):\n",
    "        return len(self.user_ratings)\n",
    "\n",
    "    def __getitem__(self, idx):\n",
    "        return torch.LongTensor([self.user_ratings[idx]['user']]), torch.LongTensor([self.user_ratings[idx]['movie']]), torch.FloatTensor([self.user_ratings[idx]['rating']])"
   ]
  },
  {
   "cell_type": "code",
   "execution_count": 5,
   "id": "b228919b-152f-4d96-b130-3a0c2ada4c5c",
   "metadata": {},
   "outputs": [],
   "source": [
    "# Trainingsprozess\n",
    "def train(model, train_loader, criterion, optimizer, epochs=10):\n",
    "    for epoch in range(epochs):\n",
    "        for user, movie, rating in train_loader:\n",
    "            optimizer.zero_grad()\n",
    "            output = model(user, movie)\n",
    "            loss = criterion(output, rating.view(-1, 1))\n",
    "            loss.backward()\n",
    "            optimizer.step()\n"
   ]
  },
  {
   "cell_type": "code",
   "execution_count": 6,
   "id": "70ecedd0-5ab1-44f1-81a4-151bc7603df0",
   "metadata": {},
   "outputs": [],
   "source": [
    "# 6. Daten für das Beispiel\n",
    "def read_csv(filename):\n",
    "    user_ratings = []\n",
    "    with open(filename, 'r') as csvfile:\n",
    "        reader = csv.DictReader(csvfile)\n",
    "        for row in reader:\n",
    "            user_ratings.append({\n",
    "                'user': int(row['user']),\n",
    "                'movie': int(row['movie']),\n",
    "                'rating': int(row['rating'])\n",
    "            })\n",
    "    return user_ratings\n",
    "\n",
    "# Dateiname der CSV-Datei\n",
    "csv_filename = 'data.csv'\n",
    "\n",
    "#Daten für das Beispiel\n",
    "#user_ratings = [\n",
    "#    {'user': 1, 'movie': 1, 'rating': 1},\n",
    "#    {'user': 2, 'movie': 1, 'rating': 1},\n",
    "#    {'user': 3, 'movie': 1, 'rating': 1},\n",
    "#    {'user': 1, 'movie': 2, 'rating': 5},\n",
    "#    {'user': 2, 'movie': 2, 'rating': 5},\n",
    "#    {'user': 3, 'movie': 2, 'rating': 5},\n",
    "#]\n",
    "\n",
    "# Initialisierung der Variable user_ratings\n",
    "user_ratings = read_csv(csv_filename)\n",
    "\n",
    "#Cold Start: Neue Benutzer oder Filme hinzufügen\n",
    "new_user_id = max([rating['user'] for rating in user_ratings]) + 1\n",
    "\n",
    "new_movie_id = 1 # / 2, je nach beispiel halt, bzw für welchen film man die recommendation will\n",
    "\n"
   ]
  },
  {
   "cell_type": "code",
   "execution_count": 7,
   "id": "a525ddb7-a1eb-4ce0-a869-0778eacec447",
   "metadata": {},
   "outputs": [
    {
     "name": "stdout",
     "output_type": "stream",
     "text": [
      "Größe der Benutzer-Embedding-Matrix: torch.Size([6, 10])\n",
      "Größe der Film-Embedding-Matrix: torch.Size([5, 10])\n"
     ]
    }
   ],
   "source": [
    "# 8. Modell, Optimizer und DataLoader initialisieren\n",
    "model = RecommenderModel(num_users=6, num_movies=5) # num_users muss > anzahl user in user_rating sein\n",
    "\n",
    "criterion = nn.MSELoss()\n",
    "optimizer = optim.SGD(model.parameters(), lr=0.01)\n",
    "dataset = RatingDataset(user_ratings)\n",
    "train_loader = DataLoader(dataset, batch_size=1, shuffle=True)\n",
    "\n",
    "# Überprüfe die Größe der Embedding-Matrizen\n",
    "print(f\"Größe der Benutzer-Embedding-Matrix: {model.user_embedding.weight.size()}\")\n",
    "print(f\"Größe der Film-Embedding-Matrix: {model.movie_embedding.weight.size()}\")\n"
   ]
  },
  {
   "cell_type": "code",
   "execution_count": 8,
   "id": "669afda8-4d4b-4743-bb73-3040c33bbfc2",
   "metadata": {},
   "outputs": [
    {
     "name": "stdout",
     "output_type": "stream",
     "text": [
      "Die Vorhersage für Benutzer 4 und Film 1 ist -0.852104902267456\n"
     ]
    }
   ],
   "source": [
    "# 9. Training durchführen\n",
    "\n",
    "# Führe das Training für das Modell durch\n",
    "train(model, train_loader, criterion, optimizer)\n",
    "\n",
    "# 10. Vorhersage für einen neuen Benutzer und Film\n",
    "new_user = torch.LongTensor([new_user_id])\n",
    "new_movie = torch.LongTensor([new_movie_id])\n",
    "prediction = model(new_user, new_movie)\n",
    "\n",
    "# 11. Ergebnis ausgeben\n",
    "print(f\"Die Vorhersage für Benutzer {new_user_id} und Film {new_movie_id} ist {prediction.item()}\")"
   ]
  },
  {
   "cell_type": "code",
   "execution_count": null,
   "id": "9d08fe69-7d84-4fd6-ab30-d021b65096a6",
   "metadata": {},
   "outputs": [],
   "source": []
  },
  {
   "cell_type": "code",
   "execution_count": null,
   "id": "e800a037-443d-41d4-9e1b-4e071395338a",
   "metadata": {},
   "outputs": [],
   "source": []
  }
 ],
 "metadata": {
  "kernelspec": {
   "display_name": "Python 3 (ipykernel)",
   "language": "python",
   "name": "python3"
  },
  "language_info": {
   "codemirror_mode": {
    "name": "ipython",
    "version": 3
   },
   "file_extension": ".py",
   "mimetype": "text/x-python",
   "name": "python",
   "nbconvert_exporter": "python",
   "pygments_lexer": "ipython3",
   "version": "3.10.4"
  }
 },
 "nbformat": 4,
 "nbformat_minor": 5
}
